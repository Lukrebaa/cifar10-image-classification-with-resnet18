{
  "cells": [
    {
      "cell_type": "markdown",
      "metadata": {
        "id": "mwT8RHXh0brt"
      },
      "source": [
        "#Install Libraries and Packages"
      ]
    },
    {
      "cell_type": "code",
      "execution_count": null,
      "metadata": {
        "colab": {
          "base_uri": "https://localhost:8080/"
        },
        "id": "JWkZFDLU0QpV",
        "outputId": "21b14291-c0bf-42e0-bd05-386f982730be"
      },
      "outputs": [
        {
          "name": "stdout",
          "output_type": "stream",
          "text": [
            "Requirement already satisfied: tensorflow in /usr/local/lib/python3.10/dist-packages (2.14.0)\n",
            "Requirement already satisfied: keras in /usr/local/lib/python3.10/dist-packages (2.14.0)\n",
            "Requirement already satisfied: matplotlib in /usr/local/lib/python3.10/dist-packages (3.7.1)\n",
            "Requirement already satisfied: opencv-python in /usr/local/lib/python3.10/dist-packages (4.8.0.76)\n",
            "Requirement already satisfied: numpy in /usr/local/lib/python3.10/dist-packages (1.23.5)\n",
            "Requirement already satisfied: absl-py>=1.0.0 in /usr/local/lib/python3.10/dist-packages (from tensorflow) (1.4.0)\n",
            "Requirement already satisfied: astunparse>=1.6.0 in /usr/local/lib/python3.10/dist-packages (from tensorflow) (1.6.3)\n",
            "Requirement already satisfied: flatbuffers>=23.5.26 in /usr/local/lib/python3.10/dist-packages (from tensorflow) (23.5.26)\n",
            "Requirement already satisfied: gast!=0.5.0,!=0.5.1,!=0.5.2,>=0.2.1 in /usr/local/lib/python3.10/dist-packages (from tensorflow) (0.5.4)\n",
            "Requirement already satisfied: google-pasta>=0.1.1 in /usr/local/lib/python3.10/dist-packages (from tensorflow) (0.2.0)\n",
            "Requirement already satisfied: h5py>=2.9.0 in /usr/local/lib/python3.10/dist-packages (from tensorflow) (3.9.0)\n",
            "Requirement already satisfied: libclang>=13.0.0 in /usr/local/lib/python3.10/dist-packages (from tensorflow) (16.0.6)\n",
            "Requirement already satisfied: ml-dtypes==0.2.0 in /usr/local/lib/python3.10/dist-packages (from tensorflow) (0.2.0)\n",
            "Requirement already satisfied: opt-einsum>=2.3.2 in /usr/local/lib/python3.10/dist-packages (from tensorflow) (3.3.0)\n",
            "Requirement already satisfied: packaging in /usr/local/lib/python3.10/dist-packages (from tensorflow) (23.2)\n",
            "Requirement already satisfied: protobuf!=4.21.0,!=4.21.1,!=4.21.2,!=4.21.3,!=4.21.4,!=4.21.5,<5.0.0dev,>=3.20.3 in /usr/local/lib/python3.10/dist-packages (from tensorflow) (3.20.3)\n",
            "Requirement already satisfied: setuptools in /usr/local/lib/python3.10/dist-packages (from tensorflow) (67.7.2)\n",
            "Requirement already satisfied: six>=1.12.0 in /usr/local/lib/python3.10/dist-packages (from tensorflow) (1.16.0)\n",
            "Requirement already satisfied: termcolor>=1.1.0 in /usr/local/lib/python3.10/dist-packages (from tensorflow) (2.3.0)\n",
            "Requirement already satisfied: typing-extensions>=3.6.6 in /usr/local/lib/python3.10/dist-packages (from tensorflow) (4.5.0)\n",
            "Requirement already satisfied: wrapt<1.15,>=1.11.0 in /usr/local/lib/python3.10/dist-packages (from tensorflow) (1.14.1)\n",
            "Requirement already satisfied: tensorflow-io-gcs-filesystem>=0.23.1 in /usr/local/lib/python3.10/dist-packages (from tensorflow) (0.34.0)\n",
            "Requirement already satisfied: grpcio<2.0,>=1.24.3 in /usr/local/lib/python3.10/dist-packages (from tensorflow) (1.59.2)\n",
            "Requirement already satisfied: tensorboard<2.15,>=2.14 in /usr/local/lib/python3.10/dist-packages (from tensorflow) (2.14.1)\n",
            "Requirement already satisfied: tensorflow-estimator<2.15,>=2.14.0 in /usr/local/lib/python3.10/dist-packages (from tensorflow) (2.14.0)\n",
            "Requirement already satisfied: contourpy>=1.0.1 in /usr/local/lib/python3.10/dist-packages (from matplotlib) (1.2.0)\n",
            "Requirement already satisfied: cycler>=0.10 in /usr/local/lib/python3.10/dist-packages (from matplotlib) (0.12.1)\n",
            "Requirement already satisfied: fonttools>=4.22.0 in /usr/local/lib/python3.10/dist-packages (from matplotlib) (4.44.0)\n",
            "Requirement already satisfied: kiwisolver>=1.0.1 in /usr/local/lib/python3.10/dist-packages (from matplotlib) (1.4.5)\n",
            "Requirement already satisfied: pillow>=6.2.0 in /usr/local/lib/python3.10/dist-packages (from matplotlib) (9.4.0)\n",
            "Requirement already satisfied: pyparsing>=2.3.1 in /usr/local/lib/python3.10/dist-packages (from matplotlib) (3.1.1)\n",
            "Requirement already satisfied: python-dateutil>=2.7 in /usr/local/lib/python3.10/dist-packages (from matplotlib) (2.8.2)\n",
            "Requirement already satisfied: wheel<1.0,>=0.23.0 in /usr/local/lib/python3.10/dist-packages (from astunparse>=1.6.0->tensorflow) (0.41.3)\n",
            "Requirement already satisfied: google-auth<3,>=1.6.3 in /usr/local/lib/python3.10/dist-packages (from tensorboard<2.15,>=2.14->tensorflow) (2.17.3)\n",
            "Requirement already satisfied: google-auth-oauthlib<1.1,>=0.5 in /usr/local/lib/python3.10/dist-packages (from tensorboard<2.15,>=2.14->tensorflow) (1.0.0)\n",
            "Requirement already satisfied: markdown>=2.6.8 in /usr/local/lib/python3.10/dist-packages (from tensorboard<2.15,>=2.14->tensorflow) (3.5.1)\n",
            "Requirement already satisfied: requests<3,>=2.21.0 in /usr/local/lib/python3.10/dist-packages (from tensorboard<2.15,>=2.14->tensorflow) (2.31.0)\n",
            "Requirement already satisfied: tensorboard-data-server<0.8.0,>=0.7.0 in /usr/local/lib/python3.10/dist-packages (from tensorboard<2.15,>=2.14->tensorflow) (0.7.2)\n",
            "Requirement already satisfied: werkzeug>=1.0.1 in /usr/local/lib/python3.10/dist-packages (from tensorboard<2.15,>=2.14->tensorflow) (3.0.1)\n",
            "Requirement already satisfied: cachetools<6.0,>=2.0.0 in /usr/local/lib/python3.10/dist-packages (from google-auth<3,>=1.6.3->tensorboard<2.15,>=2.14->tensorflow) (5.3.2)\n",
            "Requirement already satisfied: pyasn1-modules>=0.2.1 in /usr/local/lib/python3.10/dist-packages (from google-auth<3,>=1.6.3->tensorboard<2.15,>=2.14->tensorflow) (0.3.0)\n",
            "Requirement already satisfied: rsa<5,>=3.1.4 in /usr/local/lib/python3.10/dist-packages (from google-auth<3,>=1.6.3->tensorboard<2.15,>=2.14->tensorflow) (4.9)\n",
            "Requirement already satisfied: requests-oauthlib>=0.7.0 in /usr/local/lib/python3.10/dist-packages (from google-auth-oauthlib<1.1,>=0.5->tensorboard<2.15,>=2.14->tensorflow) (1.3.1)\n",
            "Requirement already satisfied: charset-normalizer<4,>=2 in /usr/local/lib/python3.10/dist-packages (from requests<3,>=2.21.0->tensorboard<2.15,>=2.14->tensorflow) (3.3.2)\n",
            "Requirement already satisfied: idna<4,>=2.5 in /usr/local/lib/python3.10/dist-packages (from requests<3,>=2.21.0->tensorboard<2.15,>=2.14->tensorflow) (3.4)\n",
            "Requirement already satisfied: urllib3<3,>=1.21.1 in /usr/local/lib/python3.10/dist-packages (from requests<3,>=2.21.0->tensorboard<2.15,>=2.14->tensorflow) (2.0.7)\n",
            "Requirement already satisfied: certifi>=2017.4.17 in /usr/local/lib/python3.10/dist-packages (from requests<3,>=2.21.0->tensorboard<2.15,>=2.14->tensorflow) (2023.7.22)\n",
            "Requirement already satisfied: MarkupSafe>=2.1.1 in /usr/local/lib/python3.10/dist-packages (from werkzeug>=1.0.1->tensorboard<2.15,>=2.14->tensorflow) (2.1.3)\n",
            "Requirement already satisfied: pyasn1<0.6.0,>=0.4.6 in /usr/local/lib/python3.10/dist-packages (from pyasn1-modules>=0.2.1->google-auth<3,>=1.6.3->tensorboard<2.15,>=2.14->tensorflow) (0.5.0)\n",
            "Requirement already satisfied: oauthlib>=3.0.0 in /usr/local/lib/python3.10/dist-packages (from requests-oauthlib>=0.7.0->google-auth-oauthlib<1.1,>=0.5->tensorboard<2.15,>=2.14->tensorflow) (3.2.2)\n"
          ]
        }
      ],
      "source": [
        "!pip install tensorflow keras matplotlib opencv-python numpy"
      ]
    },
    {
      "cell_type": "markdown",
      "metadata": {
        "id": "TJk16Gl90fgK"
      },
      "source": [
        "# Imports"
      ]
    },
    {
      "cell_type": "code",
      "execution_count": null,
      "metadata": {
        "id": "XxuzOW6e0Yp8"
      },
      "outputs": [],
      "source": [
        "import tensorflow as tf\n",
        "import keras\n",
        "from tensorflow.keras.models import Model, Sequential\n",
        "from tensorflow.keras.layers import  Dense, Conv2D,  MaxPool2D, Flatten, GlobalAveragePooling2D,  BatchNormalization, Layer, Add\n",
        "from keras.datasets import cifar10\n",
        "from sklearn.model_selection import train_test_split\n",
        "from sklearn.preprocessing import OneHotEncoder\n",
        "from keras.preprocessing.image import ImageDataGenerator\n",
        "import matplotlib.pyplot as plt"
      ]
    },
    {
      "cell_type": "code",
      "execution_count": null,
      "metadata": {
        "colab": {
          "base_uri": "https://localhost:8080/"
        },
        "id": "-eTnITsZIViL",
        "outputId": "e106fe54-c782-44a7-b0eb-445a12340e21"
      },
      "outputs": [
        {
          "name": "stdout",
          "output_type": "stream",
          "text": [
            "Mounted at /content/drive\n"
          ]
        }
      ],
      "source": [
        "from google.colab import drive\n",
        "drive.mount('/content/drive')"
      ]
    },
    {
      "cell_type": "markdown",
      "metadata": {
        "id": "v0KlW1wi0h2a"
      },
      "source": [
        "# Cifar10"
      ]
    },
    {
      "cell_type": "code",
      "execution_count": null,
      "metadata": {
        "colab": {
          "base_uri": "https://localhost:8080/"
        },
        "id": "BRB52Sc80j-b",
        "outputId": "915f1482-4901-4bca-b9d0-65e39d663776"
      },
      "outputs": [
        {
          "name": "stdout",
          "output_type": "stream",
          "text": [
            "Downloading data from https://www.cs.toronto.edu/~kriz/cifar-10-python.tar.gz\n",
            "170498071/170498071 [==============================] - 8s 0us/step\n"
          ]
        }
      ],
      "source": [
        "# Load into train and test sets\n",
        "(X_train, Y_train), (X_test, Y_test) = cifar10.load_data()"
      ]
    },
    {
      "cell_type": "code",
      "execution_count": null,
      "metadata": {
        "id": "0OtxYUe61o_p"
      },
      "outputs": [],
      "source": [
        "# Normalize the data.\n",
        "X_train = X_train.astype('float32')\n",
        "X_test = X_test.astype('float32')\n",
        "\n",
        "X_train /= 255.0\n",
        "X_test /= 255.0"
      ]
    },
    {
      "cell_type": "code",
      "execution_count": null,
      "metadata": {
        "id": "-Dbz7RMn4jY3"
      },
      "outputs": [],
      "source": [
        "#Split into train and val sets\n",
        "X_train, X_val, Y_train, Y_val = train_test_split(X_train, Y_train, test_size = 0.2,shuffle = True)"
      ]
    },
    {
      "cell_type": "code",
      "execution_count": null,
      "metadata": {
        "id": "FrGTlTIw4cE3"
      },
      "outputs": [],
      "source": [
        "#Encoding\n",
        "encoder = OneHotEncoder()\n",
        "\n",
        "encoder.fit(Y_train)\n",
        "\n",
        "Y_train = encoder.transform(Y_train).toarray()\n",
        "Y_test = encoder.transform(Y_test).toarray()\n",
        "Y_val =  encoder.transform(Y_val).toarray()"
      ]
    },
    {
      "cell_type": "code",
      "execution_count": null,
      "metadata": {
        "colab": {
          "base_uri": "https://localhost:8080/"
        },
        "id": "OTEebUj0HIKz",
        "outputId": "c02dffce-9437-4066-ce0b-06cbe49d4a5f"
      },
      "outputs": [
        {
          "name": "stdout",
          "output_type": "stream",
          "text": [
            "(40000, 10)\n",
            "(40000, 32, 32, 3)\n",
            "(10000, 10)\n",
            "(10000, 32, 32, 3)\n",
            "(10000, 10)\n",
            "(10000, 32, 32, 3)\n"
          ]
        }
      ],
      "source": [
        "print(Y_train.shape)\n",
        "print(X_train.shape)\n",
        "\n",
        "print(Y_val.shape)\n",
        "print(X_val.shape)\n",
        "\n",
        "print(Y_test.shape)\n",
        "print(X_test.shape)"
      ]
    },
    {
      "cell_type": "code",
      "execution_count": null,
      "metadata": {
        "id": "-8VNTfY64YqZ"
      },
      "outputs": [],
      "source": [
        "#Data augmentation\n",
        "aug = ImageDataGenerator(\n",
        "                            horizontal_flip=True,\n",
        "                            width_shift_range=0.05,\n",
        "                            height_shift_range=0.05\n",
        "                            )\n",
        "aug.fit(X_train)"
      ]
    },
    {
      "cell_type": "code",
      "execution_count": null,
      "metadata": {
        "colab": {
          "base_uri": "https://localhost:8080/"
        },
        "id": "CzT45vnQHaVJ",
        "outputId": "7b59d53a-bb0a-4317-b6d7-e380127efbb5"
      },
      "outputs": [
        {
          "name": "stdout",
          "output_type": "stream",
          "text": [
            "(40000, 10)\n",
            "(40000, 32, 32, 3)\n",
            "(10000, 10)\n",
            "(10000, 32, 32, 3)\n",
            "(10000, 10)\n",
            "(10000, 32, 32, 3)\n"
          ]
        }
      ],
      "source": [
        "print(Y_train.shape)\n",
        "print(X_train.shape)\n",
        "\n",
        "print(Y_val.shape)\n",
        "print(X_val.shape)\n",
        "\n",
        "print(Y_test.shape)\n",
        "print(X_test.shape)"
      ]
    },
    {
      "cell_type": "markdown",
      "metadata": {
        "id": "Im5bkvCmo_IU"
      },
      "source": [
        "## MODEL3 (ResNet18)"
      ]
    },
    {
      "cell_type": "markdown",
      "metadata": {
        "id": "bbgvd37wpV8t"
      },
      "source": [
        "1. Developing the ResNet50 model"
      ]
    },
    {
      "cell_type": "code",
      "execution_count": null,
      "metadata": {
        "id": "SCE45KEY4ztu"
      },
      "outputs": [],
      "source": [
        "class Block(Model):\n",
        "    def __init__(self, channels: int, down_sample=False):\n",
        "        super().__init__()\n",
        "        self.__channels = channels\n",
        "        self.__down_sample = down_sample\n",
        "        self.__strides = [2, 1] if down_sample else [1, 1]\n",
        "        kernel = (3, 3)\n",
        "        self.conv_1 = Conv2D(self.__channels, strides=self.__strides[0], kernel_size=kernel, padding=\"same\", kernel_initializer=\"he_normal\")\n",
        "        self.bn_1 = BatchNormalization()\n",
        "        self.conv_2 = Conv2D(self.__channels, strides=self.__strides[1], kernel_size=kernel, padding=\"same\", kernel_initializer=\"he_normal\")\n",
        "        self.bn_2 = BatchNormalization()\n",
        "        self.merge = Add()\n",
        "        if self.__down_sample:\n",
        "            self.res_conv = Conv2D(self.__channels, strides=2, kernel_size=(1, 1), padding=\"same\", kernel_initializer=\"he_normal\")\n",
        "            self.res_bn = BatchNormalization()\n",
        "\n",
        "    def call(self, inputs):\n",
        "        res = inputs\n",
        "        x = self.conv_1(inputs)\n",
        "        x = self.bn_1(x)\n",
        "        x = tf.nn.relu(x)\n",
        "        x = self.conv_2(x)\n",
        "        x = self.bn_2(x)\n",
        "        if self.__down_sample:\n",
        "            res = self.res_conv(res)\n",
        "            res = self.res_bn(res)\n",
        "        x = self.merge([x, res])\n",
        "        out = tf.nn.relu(x)\n",
        "        return out"
      ]
    },
    {
      "cell_type": "code",
      "execution_count": null,
      "metadata": {
        "id": "wrlX7kBY6ALs"
      },
      "outputs": [],
      "source": [
        "class Resnet18(Model):\n",
        "    def __init__(self, no_classes, **kwargs):\n",
        "        super().__init__(**kwargs)\n",
        "\n",
        "        self.conv_1 = Conv2D(64, (7, 7), strides=2, padding=\"same\", kernel_initializer=\"he_normal\")\n",
        "        self.init_bn = BatchNormalization()\n",
        "        self.pool_2 = MaxPool2D(pool_size=(2, 2), strides=2, padding=\"same\")\n",
        "        self.res_1_1 = Block(64)\n",
        "        self.res_1_2 = Block(64)\n",
        "        self.res_2_1 = Block(128, down_sample=True)\n",
        "        self.res_2_2 = Block(128)\n",
        "        self.res_3_1 = Block(256, down_sample=True)\n",
        "        self.res_3_2 = Block(256)\n",
        "        self.res_4_1 = Block(512, down_sample=True)\n",
        "        self.res_4_2 = Block(512)\n",
        "        self.avg_pool = GlobalAveragePooling2D()\n",
        "        self.flat = Flatten()\n",
        "        self.fc = Dense(no_classes, activation=\"softmax\")\n",
        "\n",
        "    def call(self, inputs):\n",
        "        out = self.conv_1(inputs)\n",
        "        out = self.init_bn(out)\n",
        "        out = tf.nn.relu(out)\n",
        "        out = self.pool_2(out)\n",
        "        for res_block in [self.res_1_1, self.res_1_2, self.res_2_1, self.res_2_2, self.res_3_1, self.res_3_2, self.res_4_1, self.res_4_2]:\n",
        "            out = res_block(out)\n",
        "        out = self.avg_pool(out)\n",
        "        out = self.flat(out)\n",
        "        out = self.fc(out)\n",
        "        return out"
      ]
    },
    {
      "cell_type": "code",
      "execution_count": null,
      "metadata": {
        "colab": {
          "base_uri": "https://localhost:8080/"
        },
        "id": "NbAxaHog9DQ4",
        "outputId": "0df3062d-83dc-44d1-f45d-d810c8ad1619"
      },
      "outputs": [
        {
          "name": "stderr",
          "output_type": "stream",
          "text": [
            "WARNING:tensorflow:AutoGraph could not transform <bound method Block.call of <__main__.Block object at 0x7e93f45867d0>> and will run it as-is.\n",
            "Cause: mangled names are not yet supported\n",
            "To silence this warning, decorate the function with @tf.autograph.experimental.do_not_convert\n"
          ]
        },
        {
          "name": "stdout",
          "output_type": "stream",
          "text": [
            "WARNING: AutoGraph could not transform <bound method Block.call of <__main__.Block object at 0x7e93f45867d0>> and will run it as-is.\n",
            "Cause: mangled names are not yet supported\n",
            "To silence this warning, decorate the function with @tf.autograph.experimental.do_not_convert\n"
          ]
        }
      ],
      "source": [
        "model = Resnet18(10)\n",
        "model.build(input_shape = (None,32,32,3))"
      ]
    },
    {
      "cell_type": "markdown",
      "metadata": {
        "id": "v6vR_IoCpgJs"
      },
      "source": [
        "2. Compiling the model"
      ]
    },
    {
      "cell_type": "code",
      "execution_count": null,
      "metadata": {
        "id": "iGHsc-_gEqWM"
      },
      "outputs": [],
      "source": [
        "model.compile(\n",
        "    optimizer='adam',\n",
        "    loss='categorical_crossentropy',\n",
        "    metrics = ['accuracy']\n",
        ")"
      ]
    },
    {
      "cell_type": "code",
      "execution_count": null,
      "metadata": {
        "colab": {
          "base_uri": "https://localhost:8080/"
        },
        "id": "IYhYaabHE1ns",
        "outputId": "652d78ee-5cde-4fd0-9f5a-048884bb3d65"
      },
      "outputs": [
        {
          "name": "stdout",
          "output_type": "stream",
          "text": [
            "Model: \"resnet18\"\n",
            "_________________________________________________________________\n",
            " Layer (type)                Output Shape              Param #   \n",
            "=================================================================\n",
            " conv2d (Conv2D)             multiple                  9472      \n",
            "                                                                 \n",
            " batch_normalization (Batch  multiple                  256       \n",
            " Normalization)                                                  \n",
            "                                                                 \n",
            " max_pooling2d (MaxPooling2  multiple                  0         \n",
            " D)                                                              \n",
            "                                                                 \n",
            " block (Block)               multiple                  74368     \n",
            "                                                                 \n",
            " block_1 (Block)             multiple                  74368     \n",
            "                                                                 \n",
            " block_2 (Block)             multiple                  231296    \n",
            "                                                                 \n",
            " block_3 (Block)             multiple                  296192    \n",
            "                                                                 \n",
            " block_4 (Block)             multiple                  921344    \n",
            "                                                                 \n",
            " block_5 (Block)             multiple                  1182208   \n",
            "                                                                 \n",
            " block_6 (Block)             multiple                  3677696   \n",
            "                                                                 \n",
            " block_7 (Block)             multiple                  4723712   \n",
            "                                                                 \n",
            " global_average_pooling2d (  multiple                  0         \n",
            " GlobalAveragePooling2D)                                         \n",
            "                                                                 \n",
            " flatten (Flatten)           multiple                  0         \n",
            "                                                                 \n",
            " dense (Dense)               multiple                  5130      \n",
            "                                                                 \n",
            "=================================================================\n",
            "Total params: 11196042 (42.71 MB)\n",
            "Trainable params: 11186442 (42.67 MB)\n",
            "Non-trainable params: 9600 (37.50 KB)\n",
            "_________________________________________________________________\n"
          ]
        }
      ],
      "source": [
        "model.summary()"
      ]
    },
    {
      "cell_type": "code",
      "execution_count": null,
      "metadata": {
        "id": "Qj9Xp0_6GbZQ"
      },
      "outputs": [],
      "source": [
        "from keras.callbacks import EarlyStopping\n",
        "es = EarlyStopping(patience= 8, restore_best_weights=True, monitor=\"val_accuracy\")\n",
        "STEPS = len(X_train) / 256"
      ]
    },
    {
      "cell_type": "markdown",
      "metadata": {
        "id": "Ojou5_v0pmNc"
      },
      "source": [
        "3. Calling fit function for MODEL3"
      ]
    },
    {
      "cell_type": "code",
      "execution_count": null,
      "metadata": {
        "colab": {
          "base_uri": "https://localhost:8080/"
        },
        "id": "D0BYlFKVE8SC",
        "outputId": "5b0b9d57-759d-44b2-fd63-515e744a7625"
      },
      "outputs": [
        {
          "name": "stdout",
          "output_type": "stream",
          "text": [
            "Epoch 1/10\n",
            "157/156 [==============================] - ETA: 0s - loss: 1.6269 - accuracy: 0.4325"
          ]
        },
        {
          "name": "stderr",
          "output_type": "stream",
          "text": [
            "WARNING:tensorflow:Early stopping conditioned on metric `val_acc` which is not available. Available metrics are: loss,accuracy,val_loss,val_accuracy\n"
          ]
        },
        {
          "name": "stdout",
          "output_type": "stream",
          "text": [
            "\b\b\b\b\b\b\b\b\b\b\b\b\b\b\b\b\b\b\b\b\b\b\b\b\b\b\b\b\b\b\b\b\b\b\b\b\b\b\b\b\b\b\b\b\b\b\b\b\b\b\b\b\b\b\b\b\b\b\b\b\b\b\b\b\b\b\b\b\b\b\b\b\b\b\b\b\b\b\b\b\b\b\b\b\r156/156 [==============================] - 42s 132ms/step - loss: 1.6269 - accuracy: 0.4325 - val_loss: 1.7968 - val_accuracy: 0.3754\n",
            "Epoch 2/10\n",
            "157/156 [==============================] - ETA: 0s - loss: 1.2383 - accuracy: 0.5548"
          ]
        },
        {
          "name": "stderr",
          "output_type": "stream",
          "text": [
            "WARNING:tensorflow:Early stopping conditioned on metric `val_acc` which is not available. Available metrics are: loss,accuracy,val_loss,val_accuracy\n"
          ]
        },
        {
          "name": "stdout",
          "output_type": "stream",
          "text": [
            "\b\b\b\b\b\b\b\b\b\b\b\b\b\b\b\b\b\b\b\b\b\b\b\b\b\b\b\b\b\b\b\b\b\b\b\b\b\b\b\b\b\b\b\b\b\b\b\b\b\b\b\b\b\b\b\b\b\b\b\b\b\b\b\b\b\b\b\b\b\b\b\b\b\b\b\b\b\b\b\b\b\b\b\b\r156/156 [==============================] - 20s 129ms/step - loss: 1.2383 - accuracy: 0.5548 - val_loss: 1.6346 - val_accuracy: 0.4358\n",
            "Epoch 3/10\n",
            "157/156 [==============================] - ETA: 0s - loss: 1.0827 - accuracy: 0.6138"
          ]
        },
        {
          "name": "stderr",
          "output_type": "stream",
          "text": [
            "WARNING:tensorflow:Early stopping conditioned on metric `val_acc` which is not available. Available metrics are: loss,accuracy,val_loss,val_accuracy\n"
          ]
        },
        {
          "name": "stdout",
          "output_type": "stream",
          "text": [
            "\b\b\b\b\b\b\b\b\b\b\b\b\b\b\b\b\b\b\b\b\b\b\b\b\b\b\b\b\b\b\b\b\b\b\b\b\b\b\b\b\b\b\b\b\b\b\b\b\b\b\b\b\b\b\b\b\b\b\b\b\b\b\b\b\b\b\b\b\b\b\b\b\b\b\b\b\b\b\b\b\b\b\b\b\r156/156 [==============================] - 20s 130ms/step - loss: 1.0827 - accuracy: 0.6138 - val_loss: 1.3282 - val_accuracy: 0.5335\n",
            "Epoch 4/10\n",
            "157/156 [==============================] - ETA: 0s - loss: 0.9677 - accuracy: 0.6587"
          ]
        },
        {
          "name": "stderr",
          "output_type": "stream",
          "text": [
            "WARNING:tensorflow:Early stopping conditioned on metric `val_acc` which is not available. Available metrics are: loss,accuracy,val_loss,val_accuracy\n"
          ]
        },
        {
          "name": "stdout",
          "output_type": "stream",
          "text": [
            "\b\b\b\b\b\b\b\b\b\b\b\b\b\b\b\b\b\b\b\b\b\b\b\b\b\b\b\b\b\b\b\b\b\b\b\b\b\b\b\b\b\b\b\b\b\b\b\b\b\b\b\b\b\b\b\b\b\b\b\b\b\b\b\b\b\b\b\b\b\b\b\b\b\b\b\b\b\b\b\b\b\b\b\b\r156/156 [==============================] - 21s 132ms/step - loss: 0.9677 - accuracy: 0.6587 - val_loss: 1.1389 - val_accuracy: 0.6068\n",
            "Epoch 5/10\n",
            "157/156 [==============================] - ETA: 0s - loss: 0.8878 - accuracy: 0.6862"
          ]
        },
        {
          "name": "stderr",
          "output_type": "stream",
          "text": [
            "WARNING:tensorflow:Early stopping conditioned on metric `val_acc` which is not available. Available metrics are: loss,accuracy,val_loss,val_accuracy\n"
          ]
        },
        {
          "name": "stdout",
          "output_type": "stream",
          "text": [
            "\b\b\b\b\b\b\b\b\b\b\b\b\b\b\b\b\b\b\b\b\b\b\b\b\b\b\b\b\b\b\b\b\b\b\b\b\b\b\b\b\b\b\b\b\b\b\b\b\b\b\b\b\b\b\b\b\b\b\b\b\b\b\b\b\b\b\b\b\b\b\b\b\b\b\b\b\b\b\b\b\b\b\b\b\r156/156 [==============================] - 20s 131ms/step - loss: 0.8878 - accuracy: 0.6862 - val_loss: 1.0788 - val_accuracy: 0.6257\n",
            "Epoch 6/10\n",
            "157/156 [==============================] - ETA: 0s - loss: 0.8142 - accuracy: 0.7136"
          ]
        },
        {
          "name": "stderr",
          "output_type": "stream",
          "text": [
            "WARNING:tensorflow:Early stopping conditioned on metric `val_acc` which is not available. Available metrics are: loss,accuracy,val_loss,val_accuracy\n"
          ]
        },
        {
          "name": "stdout",
          "output_type": "stream",
          "text": [
            "\b\b\b\b\b\b\b\b\b\b\b\b\b\b\b\b\b\b\b\b\b\b\b\b\b\b\b\b\b\b\b\b\b\b\b\b\b\b\b\b\b\b\b\b\b\b\b\b\b\b\b\b\b\b\b\b\b\b\b\b\b\b\b\b\b\b\b\b\b\b\b\b\b\b\b\b\b\b\b\b\b\b\b\b\r156/156 [==============================] - 20s 130ms/step - loss: 0.8142 - accuracy: 0.7136 - val_loss: 1.2733 - val_accuracy: 0.5891\n",
            "Epoch 7/10\n",
            "157/156 [==============================] - ETA: 0s - loss: 0.7537 - accuracy: 0.7315"
          ]
        },
        {
          "name": "stderr",
          "output_type": "stream",
          "text": [
            "WARNING:tensorflow:Early stopping conditioned on metric `val_acc` which is not available. Available metrics are: loss,accuracy,val_loss,val_accuracy\n"
          ]
        },
        {
          "name": "stdout",
          "output_type": "stream",
          "text": [
            "\b\b\b\b\b\b\b\b\b\b\b\b\b\b\b\b\b\b\b\b\b\b\b\b\b\b\b\b\b\b\b\b\b\b\b\b\b\b\b\b\b\b\b\b\b\b\b\b\b\b\b\b\b\b\b\b\b\b\b\b\b\b\b\b\b\b\b\b\b\b\b\b\b\b\b\b\b\b\b\b\b\b\b\b\r156/156 [==============================] - 21s 132ms/step - loss: 0.7537 - accuracy: 0.7315 - val_loss: 1.0134 - val_accuracy: 0.6661\n",
            "Epoch 8/10\n",
            "157/156 [==============================] - ETA: 0s - loss: 0.6974 - accuracy: 0.7542"
          ]
        },
        {
          "name": "stderr",
          "output_type": "stream",
          "text": [
            "WARNING:tensorflow:Early stopping conditioned on metric `val_acc` which is not available. Available metrics are: loss,accuracy,val_loss,val_accuracy\n"
          ]
        },
        {
          "name": "stdout",
          "output_type": "stream",
          "text": [
            "\b\b\b\b\b\b\b\b\b\b\b\b\b\b\b\b\b\b\b\b\b\b\b\b\b\b\b\b\b\b\b\b\b\b\b\b\b\b\b\b\b\b\b\b\b\b\b\b\b\b\b\b\b\b\b\b\b\b\b\b\b\b\b\b\b\b\b\b\b\b\b\b\b\b\b\b\b\b\b\b\b\b\b\b\r156/156 [==============================] - 20s 131ms/step - loss: 0.6974 - accuracy: 0.7542 - val_loss: 0.9550 - val_accuracy: 0.6815\n",
            "Epoch 9/10\n",
            "157/156 [==============================] - ETA: 0s - loss: 0.6652 - accuracy: 0.7649"
          ]
        },
        {
          "name": "stderr",
          "output_type": "stream",
          "text": [
            "WARNING:tensorflow:Early stopping conditioned on metric `val_acc` which is not available. Available metrics are: loss,accuracy,val_loss,val_accuracy\n"
          ]
        },
        {
          "name": "stdout",
          "output_type": "stream",
          "text": [
            "\b\b\b\b\b\b\b\b\b\b\b\b\b\b\b\b\b\b\b\b\b\b\b\b\b\b\b\b\b\b\b\b\b\b\b\b\b\b\b\b\b\b\b\b\b\b\b\b\b\b\b\b\b\b\b\b\b\b\b\b\b\b\b\b\b\b\b\b\b\b\b\b\b\b\b\b\b\b\b\b\b\b\b\b\r156/156 [==============================] - 21s 133ms/step - loss: 0.6652 - accuracy: 0.7649 - val_loss: 0.9919 - val_accuracy: 0.6710\n",
            "Epoch 10/10\n",
            "157/156 [==============================] - ETA: 0s - loss: 0.6164 - accuracy: 0.7822"
          ]
        },
        {
          "name": "stderr",
          "output_type": "stream",
          "text": [
            "WARNING:tensorflow:Early stopping conditioned on metric `val_acc` which is not available. Available metrics are: loss,accuracy,val_loss,val_accuracy\n"
          ]
        },
        {
          "name": "stdout",
          "output_type": "stream",
          "text": [
            "\b\b\b\b\b\b\b\b\b\b\b\b\b\b\b\b\b\b\b\b\b\b\b\b\b\b\b\b\b\b\b\b\b\b\b\b\b\b\b\b\b\b\b\b\b\b\b\b\b\b\b\b\b\b\b\b\b\b\b\b\b\b\b\b\b\b\b\b\b\b\b\b\b\b\b\b\b\b\b\b\b\b\b\b\r156/156 [==============================] - 20s 129ms/step - loss: 0.6164 - accuracy: 0.7822 - val_loss: 0.8713 - val_accuracy: 0.7092\n"
          ]
        }
      ],
      "source": [
        "history=model.fit(\n",
        "    aug.flow(X_train,Y_train,batch_size = 256),\n",
        "    steps_per_epoch=STEPS,\n",
        "    validation_data=(X_val, Y_val),\n",
        "    batch_size=256,\n",
        "    verbose=1,\n",
        "    epochs=10,\n",
        "    callbacks=[es]\n",
        ")"
      ]
    },
    {
      "cell_type": "markdown",
      "metadata": {
        "id": "07jY7jVRpzlj"
      },
      "source": [
        "4. Saving the model"
      ]
    },
    {
      "cell_type": "code",
      "execution_count": null,
      "metadata": {
        "id": "4GsMpLuvp1ql"
      },
      "outputs": [],
      "source": [
        "model.save('path/to/model/folder')"
      ]
    },
    {
      "cell_type": "code",
      "execution_count": null,
      "metadata": {
        "id": "k-JLzxHFpEp7"
      },
      "outputs": [],
      "source": [
        "# model = Resnet18(\n",
        "#                          input_shape=(224,224,3),\n",
        "#                           weights='imagenet',\n",
        "#                           include_top=False)\n",
        "\n",
        "# #Freeze the first 10 layers\n",
        "# for layer in base_model.layers[:10]:\n",
        "#       layer.trainable =False\n",
        "# x=base_model.output\n",
        "# #x=Conv2D(128,3,3),activation='relu')(x)\n",
        "# #on the top of the model we add  the layers below:\n",
        "# x = GlobalAveragePooling2D()(x)\n",
        "# x = Dense(512,activation='relu')(x)\n",
        "# x=Dropout(0.3)(x)\n",
        "# predictions=Dense(10,activation='sigmoid')(x)  # 8 neurons - because we have 8 classes\n",
        "\n",
        "# model3=Model(inputs=base_model.inputs, outputs=predictions)"
      ]
    },
    {
      "cell_type": "markdown",
      "metadata": {
        "id": "Uua_eRey0nS6"
      },
      "source": [
        "# Performance"
      ]
    },
    {
      "cell_type": "code",
      "execution_count": null,
      "metadata": {
        "colab": {
          "base_uri": "https://localhost:8080/",
          "height": 669
        },
        "id": "17C7IzjO0oty",
        "outputId": "03a05796-6f47-4c08-ff37-c834110d5836"
      },
      "outputs": [
        {
          "data": {
            "image/png": "[encoded data removed]",
            "text/plain": [
              "<Figure size 1500x700 with 1 Axes>"
            ]
          },
          "metadata": {},
          "output_type": "display_data"
        }
      ],
      "source": [
        "fig = plt.figure(figsize=(15,7))\n",
        "plt.plot(history.history['loss'], color = 'orange', label = 'loss')\n",
        "plt.plot(history.history['val_loss'], color = 'blue', label = 'val_loss')\n",
        "fig.suptitle ('Loss', fontsize = 20)\n",
        "plt.legend()\n",
        "plt.show()"
      ]
    },
    {
      "cell_type": "code",
      "execution_count": null,
      "metadata": {
        "colab": {
          "base_uri": "https://localhost:8080/",
          "height": 669
        },
        "id": "Jn8-M-HH0qaK",
        "outputId": "e8101353-cd8e-41ca-d8af-7f470092b474"
      },
      "outputs": [
        {
          "data": {
            "image/png": "[encoded data removed]",
            "text/plain": [
              "<Figure size 1500x700 with 1 Axes>"
            ]
          },
          "metadata": {},
          "output_type": "display_data"
        }
      ],
      "source": [
        "fig = plt.figure(figsize=(15,7))\n",
        "plt.plot(history.history['accuracy'], color = 'orange', label = 'accuracy')\n",
        "plt.plot(history.history['val_accuracy'], color = 'blue', label = 'val_accuracy')\n",
        "fig.suptitle ('Accuracy', fontsize = 20)\n",
        "plt.legend()\n",
        "plt.show()"
      ]
    },
    {
      "cell_type": "code",
      "execution_count": null,
      "metadata": {
        "colab": {
          "base_uri": "https://localhost:8080/"
        },
        "id": "DDdRLGLrI6z-",
        "outputId": "7923880c-898d-4ddc-9b0a-d799c5902503"
      },
      "outputs": [
        {
          "name": "stdout",
          "output_type": "stream",
          "text": [
            "313/313 [==============================] - 2s 5ms/step - loss: 0.8511 - accuracy: 0.7153\n",
            "The ResNet18 model accuracy is: 0.7153000235557556\n",
            "The ResNet18 model loss is: 0.851076066493988\n"
          ]
        }
      ],
      "source": [
        "loss,accuracy=model.evaluate(X_test, Y_test)\n",
        "print(f'The ResNet18 model accuracy is: {accuracy}')\n",
        "print(f'The ResNet18 model loss is: {loss}')"
      ]
    }
  ],
  "metadata": {
    "accelerator": "GPU",
    "colab": {
      "gpuType": "V100",
      "machine_shape": "hm",
      "provenance": []
    },
    "kernelspec": {
      "display_name": "Python 3",
      "name": "python3"
    },
    "language_info": {
      "name": "python"
    }
  },
  "nbformat": 4,
  "nbformat_minor": 0
}
